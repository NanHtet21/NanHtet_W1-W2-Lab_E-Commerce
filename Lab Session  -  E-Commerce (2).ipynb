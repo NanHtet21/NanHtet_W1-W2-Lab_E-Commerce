{
 "cells": [
  {
   "cell_type": "markdown",
   "metadata": {
    "id": "2c8f47d3"
   },
   "source": [
    "# Lab Session"
   ]
  },
  {
   "cell_type": "markdown",
   "metadata": {
    "id": "f637aba6"
   },
   "source": [
    "## <font color='blue'> Table Of Contents </font>\n",
    "- Problem Statement \n",
    "- Load required libraries\n",
    "- Connect to DB using mysql-connector-python package\n",
    "- Create database named `e_commerce`\n",
    "- Create tables and insert data into tables as specified in the question\n",
    "- Read all the questions and write sql queries to meet the objective "
   ]
  },
  {
   "cell_type": "markdown",
   "metadata": {
    "id": "1073fc90"
   },
   "source": [
    "## <font color='blue'> Problem Statement </font>\n",
    "###  An E-commerce website manages its data in the form of various tables.\n",
    "You need to create a Database called `e_commerce` and various tables in it. The tables needed and attributes which need to be in every table are given before hand. All you have to do is create tables with data in it and answer some of the questions that follows."
   ]
  },
  {
   "cell_type": "markdown",
   "metadata": {
    "id": "48787355"
   },
   "source": [
    "### e_commerce Schema:"
   ]
  },
  {
   "cell_type": "markdown",
   "metadata": {
    "id": "d9abe6c7"
   },
   "source": [
    "### Load Required Libraries"
   ]
  },
  {
   "cell_type": "code",
   "execution_count": 1,
   "metadata": {
    "id": "0178d08e"
   },
   "outputs": [
    {
     "name": "stdout",
     "output_type": "stream",
     "text": [
      "Requirement already satisfied: mysql-connector-python in /Users/nanhtet/opt/anaconda3/lib/python3.8/site-packages (8.0.30)\n",
      "Requirement already satisfied: protobuf<=3.20.1,>=3.11.0 in /Users/nanhtet/opt/anaconda3/lib/python3.8/site-packages (from mysql-connector-python) (3.20.1)\n",
      "Note: you may need to restart the kernel to use updated packages.\n"
     ]
    }
   ],
   "source": [
    "pip install mysql-connector-python"
   ]
  },
  {
   "cell_type": "code",
   "execution_count": 2,
   "metadata": {},
   "outputs": [],
   "source": [
    "import mysql.connector\n",
    "import pandas as pd"
   ]
  },
  {
   "cell_type": "markdown",
   "metadata": {
    "id": "d7d7fd5c"
   },
   "source": [
    "### Connect to DB using Mysql-connector-python package"
   ]
  },
  {
   "cell_type": "code",
   "execution_count": 20,
   "metadata": {
    "id": "ef7bef72"
   },
   "outputs": [],
   "source": [
    "connection = mysql.connector.connect(host =\"localhost\",\n",
    "                                    user = \"root\",\n",
    "                                    password = \"Nwenwe@425\",\n",
    "                                    database = \"E_Commerce\")\n",
    "\n",
    "# Creating a cursor object\n",
    "cursorObject = connection.cursor()\n",
    "\n",
    "#cursorObject.execute(\"create database E_Commerce\")\n",
    "connection.close()"
   ]
  },
  {
   "cell_type": "markdown",
   "metadata": {
    "id": "9d55e510"
   },
   "source": [
    "### You are required to create a database named 'e_commerce'"
   ]
  },
  {
   "cell_type": "code",
   "execution_count": 21,
   "metadata": {
    "id": "42a154f2"
   },
   "outputs": [
    {
     "data": {
      "text/plain": [
       "<generator object MySQLCursor._execute_iter at 0x7fe00a667cf0>"
      ]
     },
     "execution_count": 21,
     "metadata": {},
     "output_type": "execute_result"
    }
   ],
   "source": [
    "table_creation_query =\"\"\"\n",
    "create table if not exists `supplier`(\n",
    "`SUPP_ID` INT primary key,\n",
    "`SUPP_NAME` varchar(50) ,\n",
    "`SUPP_CITY` varchar(50),\n",
    "`SUPP_PHONE` varchar(20)\n",
    ");\n",
    "\n",
    "CREATE TABLE IF NOT EXISTS `customer` (\n",
    "  `CUS_ID` INT NOT NULL,\n",
    "  `CUS_NAME` VARCHAR(20) NULL DEFAULT NULL,\n",
    "  `CUS_PHONE` VARCHAR(20),\n",
    "  `CUS_CITY` varchar(30) ,\n",
    "  `CUS_GENDER` CHAR,\n",
    "  PRIMARY KEY (`CUS_ID`));\n",
    "  \n",
    "  \n",
    "\n",
    "CREATE TABLE IF NOT EXISTS `category` (\n",
    "  `CAT_ID` INT NOT NULL,\n",
    "  `CAT_NAME` VARCHAR(20) NULL DEFAULT NULL,\n",
    " \n",
    "  PRIMARY KEY (`CAT_ID`)\n",
    "  );\n",
    "\n",
    "\n",
    "  CREATE TABLE IF NOT EXISTS `product` (\n",
    "  `PRO_ID` INT NOT NULL,\n",
    "  `PRO_NAME` VARCHAR(20) NULL DEFAULT NULL,\n",
    "  `PRO_DESC` VARCHAR(60) NULL DEFAULT NULL,\n",
    "  `CAT_ID` INT NOT NULL,\n",
    "  PRIMARY KEY (`PRO_ID`),\n",
    "  FOREIGN KEY (`CAT_ID`) REFERENCES category (`CAT_ID`)\n",
    "  \n",
    "  );\n",
    "  \n",
    "  \n",
    " CREATE TABLE IF NOT EXISTS `product_details` (\n",
    "  `PROD_ID` INT NOT NULL,\n",
    "  `PRO_ID` INT NOT NULL,\n",
    "  `SUPP_ID` INT NOT NULL,\n",
    "  `PROD_PRICE` INT NOT NULL,\n",
    "  PRIMARY KEY (`PROD_ID`),\n",
    "  FOREIGN KEY (`PRO_ID`) REFERENCES product (`PRO_ID`),\n",
    "  FOREIGN KEY (`SUPP_ID`) REFERENCES supplier (`SUPP_ID`)\n",
    "  \n",
    "  );\n",
    "  \n",
    "  CREATE TABLE IF NOT EXISTS `orders` (\n",
    "  `ORD_ID` INT NOT NULL,\n",
    "  `ORD_AMOUNT` INT NOT NULL,\n",
    "  `ORD_DATE` DATE,\n",
    "  `CUS_ID` INT NOT NULL,\n",
    "  `PROD_ID` INT NOT NULL,\n",
    "  PRIMARY KEY (`ORD_ID`),\n",
    "  FOREIGN KEY (`CUS_ID`) REFERENCES customer (`CUS_ID`),\n",
    "  FOREIGN KEY (`PROD_ID`) REFERENCES product_details (`PROD_ID`)\n",
    "  );\n",
    "  \n",
    "  \n",
    "CREATE TABLE IF NOT EXISTS `rating` (\n",
    "  `RAT_ID` INT NOT NULL,\n",
    "  `CUS_ID` INT NOT NULL,\n",
    "  `SUPP_ID` INT NOT NULL,\n",
    "  `RAT_RATSTARS` INT NOT NULL,\n",
    "  PRIMARY KEY (`RAT_ID`),\n",
    "  FOREIGN KEY (`SUPP_ID`) REFERENCES supplier (`SUPP_ID`),\n",
    "  FOREIGN KEY (`CUS_ID`) REFERENCES customer (`CUS_ID`)\n",
    "  );\"\"\"\n",
    "\n",
    "cursorObject.execute(table_creation_query, multi=True)"
   ]
  },
  {
   "cell_type": "code",
   "execution_count": 22,
   "metadata": {},
   "outputs": [],
   "source": [
    "connection.close()"
   ]
  },
  {
   "cell_type": "markdown",
   "metadata": {
    "id": "480dc986"
   },
   "source": [
    "### Q1. Create tables for supplier, customer, category, product, productDetails, order, rating to store the data for the E-commerce with the schema definition given below.\n",
    "\n",
    "\n",
    "- **`supplier`**(SUPP_ID int primary key, SUPP_NAME varchar(50), SUPP_CITY varchar(50), SUPP_PHONE varchar(10))\n",
    "\n",
    "\n",
    "- **`customer`** (CUS_ID INT NOT NULL, CUS_NAME VARCHAR(20) NULL DEFAULT NULL, CUS_PHONE VARCHAR(10), CUS_CITY varchar(30) ,CUS_GENDER CHAR,PRIMARY KEY (CUS_ID))\n",
    "\n",
    "\n",
    "- **`category`** (CAT_ID INT NOT NULL, CAT_NAME VARCHAR(20) NULL DEFAULT NULL,PRIMARY KEY (CAT_ID))\n",
    "\n",
    "\n",
    "- **`product`** (PRO_ID INT NOT NULL, PRO_NAME VARCHAR(20) NULL DEFAULT NULL, PRO_DESC VARCHAR(60) NULL DEFAULT NULL, CAT_ID INT NOT NULL,PRIMARY KEY (PRO_ID),FOREIGN KEY (CAT_ID) REFERENCES CATEGORY (CAT_ID))\n",
    "\n",
    "\n",
    "- **`product_details`** (PROD_ID INT NOT NULL, PRO_ID INT NOT NULL, SUPP_ID INT NOT NULL, PROD_PRICE INT NOT NULL,\n",
    "  PRIMARY KEY (PROD_ID),FOREIGN KEY (PRO_ID) REFERENCES PRODUCT (PRO_ID), FOREIGN KEY (SUPP_ID) REFERENCES SUPPLIER(SUPP_ID))\n",
    "  \n",
    "  \n",
    "- **`order`** (ORD_ID INT NOT NULL, ORD_AMOUNT INT NOT NULL, ORD_DATE DATE, CUS_ID INT NOT NULL, PROD_ID INT NOT NULL,PRIMARY KEY (ORD_ID),FOREIGN KEY (CUS_ID) REFERENCES CUSTOMER(CUS_ID),FOREIGN KEY (PROD_ID) REFERENCES PRODUCT_DETAILS(PROD_ID))\n",
    "\n",
    "\n",
    "- **`rating`** (RAT_ID INT NOT NULL, CUS_ID INT NOT NULL, SUPP_ID INT NOT NULL, RAT_RATSTARS INT NOT NULL,PRIMARY KEY (RAT_ID),FOREIGN KEY (SUPP_ID) REFERENCES SUPPLIER (SUPP_ID),FOREIGN KEY (CUS_ID) REFERENCES CUSTOMER(CUS_ID))"
   ]
  },
  {
   "cell_type": "code",
   "execution_count": 23,
   "metadata": {
    "id": "967b718f"
   },
   "outputs": [],
   "source": [
    "connection.close()\n",
    "connection = mysql.connector.connect(host =\"localhost\",\n",
    "                                  user =\"root\",\n",
    "                                  password =\"Nwenwe@425\",\n",
    "                                  database = \"E_Commerce\")\n",
    "cursorObject = connection.cursor()"
   ]
  },
  {
   "cell_type": "markdown",
   "metadata": {
    "id": "1f653731"
   },
   "source": [
    "### Q2. Insert the following data in the table created above\n",
    "#### `Note:` If you are getting any error while inserting the data into tables, Kindly close the connection and reconnect\n",
    "\n",
    "#### Table:  supplier\n",
    "| SUPP_ID | SUPP_NAME | SUPP_CITY | SUPP_PHONE |\n",
    "| --- | --- | --- | --- | \n",
    "| 1 | Rajesh Retails | Delhi | 1234567890 |\n",
    "| 2 | Appario Ltd. | Mumbai | 258963147032 | \n",
    "| 3 | Knome products | Bangalore | 9785462315 |\n",
    "| 4 | Bansal Retails | Kochi | 8975463285 |\n",
    "| 5 | Mittal Ltd. | Lucknow | 7898456532 |"
   ]
  },
  {
   "cell_type": "code",
   "execution_count": 24,
   "metadata": {
    "id": "f6dddd07"
   },
   "outputs": [],
   "source": [
    "# insert into \"supplier\" table\n",
    "\n",
    "insert_query = \"INSERT INTO supplier (SUPP_ID,SUPP_NAME,SUPP_CITY,SUPP_PHONE) VALUES (%s, %s, %s, %s)\"\n",
    "val = [(1,\"Rajesh Retails\",\"Delhi\",'1234567890'),\n",
    "      (2,\"Appario Ltd.\",\"Mumbai\",'2589631470'),\n",
    "      (3,\"Knome products\",\"Banglore\",'9785462315'),\n",
    "      (4,\"Bansal Retails\",\"Kochi\",'8975463285'),\n",
    "      (5,\"Mittal Ltd.\",\"Lucknow\",'7898456532')]\n",
    "\n",
    "cursorObject.execute(insert_query, multi=True)\n",
    "\n",
    "connection.commit()"
   ]
  },
  {
   "cell_type": "markdown",
   "metadata": {
    "id": "e8a070a6"
   },
   "source": [
    "#### Table:  customer\n",
    "| CUS_ID | CUS_NAME | SUPP_PHONE | CUS_CITY | CUS_GENDER\n",
    "| --- | --- | --- | --- | --- |\n",
    "| 1 | AAKASH | 9999999999 | DELHI | M |\n",
    "| 2 | AMAN | 9785463215 | NOIDA | M |\n",
    "| 3 | NEHA | 9999999998 | MUMBAI | F |\n",
    "| 4 | MEGHA | 9994562399 | KOLKATA | F |\n",
    "| 5 | PULKIT | 7895999999 | LUCKNOW | M |"
   ]
  },
  {
   "cell_type": "code",
   "execution_count": 25,
   "metadata": {
    "id": "15a4ee87"
   },
   "outputs": [],
   "source": [
    "# insert into \"customer\" table\n",
    "\n",
    "insert_query = \"INSERT INTO customer (CUS_ID,CUS_NAME,CUS_PHONE,CUS_CITY,CUS_GENDER) VALUES (%s,%s,%s,%s,%s)\"\n",
    "\n",
    "val = [(1,\"AAKASH\",'9999999999',\"DELHI\",'M'),\n",
    "       (2,\"AMAN\",' 9785463215',\"NOIDA\",'M'),\n",
    "       (3,\"NEHA\",'9999999998',\"MUMBAI\",'F'),\n",
    "       (4,\"MEGHA\",'9994562399',\" KOLKATA\",'F'),\n",
    "       (5,\"PULKIT\",'7895999999',\"LUCKNOW\",'M')]\n",
    "\n",
    "cursorObject.execute(insert_query, multi=True)\n",
    "connection.commit()"
   ]
  },
  {
   "cell_type": "markdown",
   "metadata": {
    "id": "b68bfbc2"
   },
   "source": [
    "#### Table:  category\n",
    "| CAT_ID | CAT_NAME | \n",
    "| --- | --- |  \n",
    "| 1 | BOOKS |\n",
    "| 2 | GAMES |  \n",
    "| 3 | GROCERIES | \n",
    "| 4 | ELECTRONICS | \n",
    "| 5 | CLOTHES | "
   ]
  },
  {
   "cell_type": "code",
   "execution_count": 26,
   "metadata": {
    "id": "05a00abc"
   },
   "outputs": [],
   "source": [
    "# insert into \"categoty\" table\n",
    "insert_query = \"INSERT INTO category (CAT_ID,CAT_NAME) VALUES (%s,%s)\"\n",
    "val = [(1,\"BOOKS\"),\n",
    "        (2,\"GAMES\"),\n",
    "         (3,\"GROCERIES\"),\n",
    "        (4 ,\"ELECTRONICS\"),\n",
    "        (5 ,\"CLOTHES\")]\n",
    "cursorObject.execute(insert_query, multi=True)\n",
    "connection.commit()"
   ]
  },
  {
   "cell_type": "markdown",
   "metadata": {
    "id": "eb3bc592"
   },
   "source": [
    "#### Table:  product\n",
    "| PRO_ID | PRO_NAME | PRO_DESC | CAT_ID |\n",
    "| --- | --- | --- | --- | \n",
    "| 1 | GTA V | DFJDJFDJFDJFDJFJF | 2 |\n",
    "| 2 | TSHIRT | DFDFJDFJDKFD | 5 | \n",
    "| 3 | ROG LAPTOP | DFNTTNTNTERND | 4 |\n",
    "| 4 | OATS | REURENTBTOTH | 3 |\n",
    "| 5 | HARRY POTTER | NBEMCTHTJTH | 1 |\n"
   ]
  },
  {
   "cell_type": "code",
   "execution_count": 27,
   "metadata": {
    "id": "cdfbdfad"
   },
   "outputs": [],
   "source": [
    "# insert into \"product\" table\n",
    "insert_query = \"INSERT INTO product (PRO_ID,PRO_NAME,PRO_DESC,CAT_ID) VALUES (%s,%s,%s,%s)\"\n",
    "val = [(1,\"GTA V\",\" DFJDJFDJFDJFDJFJF\",2),\n",
    "        (2,\"TSHIRT\",\"DFDFJDFJDKFD\",5),\n",
    "         (3,\"ROG LAPTOP\",\"DFNTTNTNTERND\",4),\n",
    "        (4 ,\"OATS\",\"REURENTBTOTH\",3),\n",
    "        (5 ,\" HARRY POTTER \",\"NBEMCTHTJTH \",1)]\n",
    "cursorObject.execute(insert_query, multi=True)\n",
    "connection.commit()"
   ]
  },
  {
   "cell_type": "markdown",
   "metadata": {
    "id": "cfa8a47d"
   },
   "source": [
    "#### Table:  product_details\n",
    "| PROD_ID | PRO_ID | SUPP_ID | PROD_PRICE |\n",
    "| --- | --- | --- | --- | \n",
    "| 1 | 1 | 2 | 1500 |\n",
    "| 2 | 3 | 5 | 30000 | \n",
    "| 3 | 5 | 1 | 3000 |\n",
    "| 4 | 2 | 3 | 2500 |\n",
    "| 5 | 4 | 1 | 1000 |"
   ]
  },
  {
   "cell_type": "code",
   "execution_count": 28,
   "metadata": {
    "id": "c18ea964"
   },
   "outputs": [],
   "source": [
    "# insert into \"product_details\" table\n",
    "insert_query = \"INSERT INTO product_details (PROD_ID,PRO_ID,SUPP_ID,PROD_PRICE) VALUES (%s,%s,%s,%s)\"\n",
    "val = [(1,1,2,1500),\n",
    "        (2,3,5,30000),\n",
    "         (3,5,1,3000),\n",
    "        (4 ,2,3,2500),\n",
    "        (5 ,4,1,1000)]\n",
    "cursorObject.execute(insert_query, multi=True)\n",
    "connection.commit()"
   ]
  },
  {
   "cell_type": "markdown",
   "metadata": {
    "id": "1df49086"
   },
   "source": [
    "#### Table:  orders\n",
    "| ORD_ID | ORD_AMOUNT | ORD_DATE | CUS_ID | PROD_ID\n",
    "| --- | --- | --- | --- | --- |\n",
    "| 20 | 1500 | 2021-10-12 | 3 | 5 |\n",
    "| 25 | 30500 | 2021-09-16 | 5 | 2 |\n",
    "| 26 | 2000 | 2021-10-05 | 1 | 1 |\n",
    "| 30 | 3500 | 2021-08-16 | 4 | 3 |\n",
    "| 50 | 2000 | 2021-10-06 | 2 | 1 |"
   ]
  },
  {
   "cell_type": "code",
   "execution_count": 29,
   "metadata": {
    "id": "0d97dc92"
   },
   "outputs": [],
   "source": [
    "# insert into \"orders\" table\n",
    "insert_query = \"INSERT INTO orders (ORD_ID,ORD_AMOUNT,ORD_DATE,CUS_ID,PROD_ID) VALUES (%s,%s,%s,%s,%s)\"\n",
    "\n",
    "val = [(20,1500,2021-10-12,3,5),\n",
    "        (25,30500,2021-9-16,5,2),\n",
    "         (26,2000,2021-10-5,1,1),\n",
    "        (30 ,3500,2021-8-16,4,3),\n",
    "        (50 ,2000,2021-10-6,2,1)]\n",
    "\n",
    "cursorObject.execute(insert_query, multi=True)\n",
    "connection.commit()"
   ]
  },
  {
   "cell_type": "markdown",
   "metadata": {
    "id": "75b8ce5f"
   },
   "source": [
    "#### Table: rating\n",
    "| RAT_ID | CUS_ID | SUPP_ID | RAT_RATSTARS |\n",
    "| --- | --- | --- | --- | \n",
    "| 1 | 2 | 2 | 4 |\n",
    "| 2 | 3 | 4 | 3 | \n",
    "| 3 | 5 | 1 | 5 |\n",
    "| 4 | 1 | 3 | 2 |\n",
    "| 5 | 4 | 5 | 4 |"
   ]
  },
  {
   "cell_type": "code",
   "execution_count": 30,
   "metadata": {
    "id": "6d5f1e18"
   },
   "outputs": [],
   "source": [
    "# insert into \"rating\" table\n",
    "insert_query = \"INSERT INTO rating (RAT_ID, CUS_ID, SUPP_ID, RAT_RATSTARS) VALUES (%s,%s,%s,%s)\"\n",
    "val = [(1,2,2,4),\n",
    "       (2,3,4,3),\n",
    "       (3,5,1,5),\n",
    "       (4,1,3,2),\n",
    "       (5,4,5,4)]\n",
    "\n",
    "cursorObject.execute(insert_query, multi=True)\n",
    "connection.commit()"
   ]
  },
  {
   "cell_type": "markdown",
   "metadata": {
    "id": "b59361c3"
   },
   "source": [
    "### Q3) Display the number of the customer group by their genders who have placed any order of amount greater than or equal to Rs.3000."
   ]
  },
  {
   "cell_type": "code",
   "execution_count": null,
   "metadata": {
    "id": "fcafaf3c"
   },
   "outputs": [],
   "source": [
    "Query3 = \"\"\"select customer.cus_gender,count(customer.cus_gender) as count\n",
    "            from customer inner join `orders` on customer.cus_id=`orders`.cus_id\n",
    "            where `orders` .ord_amount>=3000 group by customer.cus_gender;\"\"\"\n",
    "            \n",
    "cursorObject.execute(Query3)\n",
    "output = cursorObject.fetchall()\n",
    "      \n",
    "      ## Lets put the output of this query in pandas DataFrame\n",
    "output_df = pd.DataFrame(output, columns=['CUS_GENDER','COUNT'])\n",
    "output_df"
   ]
  },
  {
   "cell_type": "markdown",
   "metadata": {
    "id": "e49e04f5"
   },
   "source": [
    "### Q4) Display all the order along with product name ordered by a customer having Customer_Id=2;"
   ]
  },
  {
   "cell_type": "code",
   "execution_count": null,
   "metadata": {
    "id": "9dcb7883"
   },
   "outputs": [],
   "source": [
    "Query4= \"\"\"select `orders`.*,product.pro_name\n",
    "            from `orders` ,product_details,product\n",
    "            where `orders`.cus_id=2 and `orders`.prod_id=product_details.prod_id and\n",
    "            product_details.pro_id=product.pro_id;\"\"\"\n",
    "           \n",
    "cursorObject.execute(Query4)\n",
    "      \n",
    "output = cursorObject.fetchall()\n",
    "      \n",
    "## Lets put the output of this query in pandas DataFrame\n",
    "output_df = pd.DataFrame(output, columns=['PRO_NAME','CUS_ID=2'])\n",
    "output_df"
   ]
  },
  {
   "cell_type": "markdown",
   "metadata": {
    "id": "3a33398e"
   },
   "source": [
    "### Q5) Display the Supplier details who can supply more than one product."
   ]
  },
  {
   "cell_type": "code",
   "execution_count": null,
   "metadata": {
    "id": "e933b979"
   },
   "outputs": [],
   "source": [
    "Query5=    \"\"\"select supplier.*\n",
    "                from supplier,product_details\n",
    "                where supplier.supp_id in\n",
    "                (select product_details.supp_id from product_details\n",
    "                group by product_details.supp_id having count(product_details.supp_id)>1)\n",
    "                group by supplier.supp_id;\"\"\"\n",
    "cursorObject.execute(Query5)\n",
    "output = cursorObject.fetchall()\n",
    "## Lets put the output of this query in pandas DataFrame\n",
    "output_df = pd.DataFrame(output, columns=['product_details']\n",
    "output_df"
   ]
  },
  {
   "cell_type": "markdown",
   "metadata": {
    "id": "5fd319ef"
   },
   "source": [
    "### Q6) Find the category of the product whose order amount is minimum."
   ]
  },
  {
   "cell_type": "code",
   "execution_count": null,
   "metadata": {
    "id": "06f5cb51"
   },
   "outputs": [],
   "source": [
    "Query6= \"\"\"select category.*\n",
    "                    from 'orders' inner join product_details on 'orders' .prod_id=product_details.prod_id\n",
    "                    inner join product on product.pro_id=product_details.pro_id\n",
    "                    inner join category on category.cat_id=product.cat_id having min('orders' .ord_amount);\"\"\"\n",
    "\n",
    "cursorObject.execute(Query6)\n",
    "output = cursorObject.fetchall()\n",
    "      \n",
    "## Lets put the output of this query in pandas DataFrame\n",
    "output_df = pd.DataFrame(output, columns=['ord_amount']\n",
    "output_df"
   ]
  },
  {
   "cell_type": "markdown",
   "metadata": {
    "id": "107102d4"
   },
   "source": [
    "### Q7) Display the Id and Name of the Product ordered after “2021-10-05”."
   ]
  },
  {
   "cell_type": "code",
   "execution_count": null,
   "metadata": {
    "id": "5d3fc7e8"
   },
   "outputs": [],
   "source": [
    "Query7=\"\"\"select product.pro_id,product.pro_name\n",
    "            from 'orders' inner join product_details on product_details.prod_id='orders' .prod_id\n",
    "            inner join product on product.pro_id=product_details.pro_id where 'orders'.ord_date>\"2021-10-05\";\"\"\"\n",
    "\n",
    "cursorObject.execute(Query7)\n",
    "output = cursorObject.fetchall()\n",
    "      \n",
    "## Lets put the output of this query in pandas DataFrame\n",
    "output_df = pd.DataFrame(output, columns=['PRO_ID','PRO_NAME'])\n",
    "output_df"
   ]
  },
  {
   "cell_type": "markdown",
   "metadata": {
    "id": "bdce7167"
   },
   "source": [
    "### Q8) Print the top 3 supplier name and id and rating on the basis of their rating along with the customer name who has given the rating."
   ]
  },
  {
   "cell_type": "code",
   "execution_count": null,
   "metadata": {
    "id": "fa0cbe44"
   },
   "outputs": [],
   "source": [
    " query8=\"\"\"select supplier.supp_id,supplier.supp_name,customer.cus_name,rating.rat_ratstars\n",
    "        from rating inner join supplier on rating.supp_id=supplier.supp_id\n",
    "        inner join customer on rating.cus_id=customer.cus_id order by rating.rat_ratstars desc limit 3;\"\"\"\n",
    "\n",
    "cursorObject.execute(Query8)\n",
    "output = cursorObject.fetchall()\n",
    "## Lets put the output of this query in pandas DataFrame\n",
    "output_df = pd.DataFrame(output, columns=['SUPP_ID','SUPP_NAME','CUS_NAME'])\n",
    "output_df\n"
   ]
  },
  {
   "cell_type": "markdown",
   "metadata": {
    "id": "346ec2a1"
   },
   "source": [
    "### Q9) Display customer name and gender whose names start or end with character 'A'."
   ]
  },
  {
   "cell_type": "code",
   "execution_count": null,
   "metadata": {
    "id": "e571b5fd"
   },
   "outputs": [],
   "source": [
    "query9=\"\"\"select customer.cus_name ,customer.cus_gender \n",
    "from customer where customer.cus_name like 'A%' or customer.cus_name like '%A';\"\"\"\n",
    "\n",
    "cursorObject.execute(Query9)\n",
    "output = cursorObject.fetchall()\n",
    "## Lets put the output of this query in pandas DataFrame\n",
    "output_df = pd.DataFrame(output, columns=['CUS_NAME','CUS_GENDER'])\n",
    "output_df "
   ]
  },
  {
   "cell_type": "markdown",
   "metadata": {
    "id": "d0b01f77"
   },
   "source": [
    "### Q10) Display the total order amount of the male customers."
   ]
  },
  {
   "cell_type": "code",
   "execution_count": null,
   "metadata": {
    "id": "c3fa76e3"
   },
   "outputs": [],
   "source": [
    "query10=\"\"\"select sum('orders' .ord_amount) as Amount\n",
    "            from 'orders' inner join customer on 'orders' .cus_id=customer.cus_id where customer.cus_gender='M';\"\"\"\n",
    "\n",
    "\n",
    "cursorObject.execute(Query10)\n",
    "output = cursorObject.fetchall()\n",
    "## Lets put the output of this query in pandas DataFrame\n",
    "output_df = pd.DataFrame(output, columns=['orders','ORD_AMT'])\n",
    "output_df "
   ]
  },
  {
   "cell_type": "markdown",
   "metadata": {
    "id": "ff8a9971"
   },
   "source": [
    "### Q11) Display all the Customers left outer join with  the orders"
   ]
  },
  {
   "cell_type": "code",
   "execution_count": null,
   "metadata": {
    "id": "a340c6d6"
   },
   "outputs": [],
   "source": [
    "Query11=\"\"\"select * from customer left outer join 'orders' on customer.cus_id='orders' .cus_id;\"\"\"\n",
    "\n",
    "\n",
    "cursorObject.execute(Query11)\n",
    "output = cursorObject.fetchall()\n",
    "## Lets put the output of this query in pandas DataFrame\n",
    "output_df = pd.DataFrame(output, columns=['CUS_ID','ORDERS'])\n",
    "output_df "
   ]
  },
  {
   "cell_type": "markdown",
   "metadata": {
    "id": "0a72afe3"
   },
   "source": [
    "**NOTE:** Always close an open connection once you are done with the database operations"
   ]
  },
  {
   "cell_type": "markdown",
   "metadata": {
    "id": "8c88f479"
   },
   "source": [
    "## Happy Learning:)"
   ]
  }
 ],
 "metadata": {
  "colab": {
   "name": "Lab Session  -  E-Commerce.ipynb",
   "provenance": []
  },
  "kernelspec": {
   "display_name": "Python 3",
   "language": "python",
   "name": "python3"
  },
  "language_info": {
   "codemirror_mode": {
    "name": "ipython",
    "version": 3
   },
   "file_extension": ".py",
   "mimetype": "text/x-python",
   "name": "python",
   "nbconvert_exporter": "python",
   "pygments_lexer": "ipython3",
   "version": "3.8.3"
  }
 },
 "nbformat": 4,
 "nbformat_minor": 5
}
